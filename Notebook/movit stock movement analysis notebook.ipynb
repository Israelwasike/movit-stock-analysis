{
 "cells": [
  {
   "cell_type": "markdown",
   "id": "cdcad388-6a23-4a43-8e95-3a69be559707",
   "metadata": {},
   "source": [
    "## MOVIT STOCK MOVEMENT ANALYSIS"
   ]
  },
  {
   "cell_type": "markdown",
   "id": "415e1127-3727-4c24-92fb-0309d89a54fe",
   "metadata": {},
   "source": [
    "* By: ***Israel Wasike Kahayi***"
   ]
  },
  {
   "cell_type": "markdown",
   "id": "e3206d8d-6fee-47a7-b9c7-9c65eb6cd7a4",
   "metadata": {},
   "source": [
    "### Overview"
   ]
  },
  {
   "cell_type": "markdown",
   "id": "3478d738-79e3-40d8-aced-49903a190b91",
   "metadata": {},
   "source": [
    "This analysis focuses on the stock movement of hair care products across various stores in February 2025. By examining the changes in stock quantities over the month, I aim to identify trends in product availability and movement, which are crucial for effective inventory management and maximizing customer satisfaction.\n",
    "\n",
    "The dataset contains stock information collected by merchandisers from various stores. Key columns relevant to this analysis include: \n",
    "* **DATE REPORTED:** The date and time when the stock was recorded. \n",
    "* **PRODUCT DESCRIPTION:** The name and size of the product (e.g., \"MOVIT HAIR FOOD \n",
    "200 GM\"). \n",
    "* **STOCK LEVEL:** Indicates if the product is \"Available\" or \"Not available\".\n",
    "* **QUANTITY:** The number of units in stock when the product is \"Available\".\n",
    "* **CUSTOMER NAME:** The store where the stock was recorded (e.g., \"CYLETEMBU\"). \n",
    "* **REGION:** The geographical region of the store (e.g.,\"NYANZA\"). "
   ]
  },
  {
   "cell_type": "markdown",
   "id": "a1aa23ca-7ec5-4769-b884-24c3185a9c51",
   "metadata": {},
   "source": [
    "### Introduction\n",
    "\n",
    "In this notebook, I will clean and prepare data on Movit hair care products for February 2025. This includes handling missing values, correcting data types, and standardizing formats to ensure the data is ready for analysis and visualization."
   ]
  },
  {
   "cell_type": "markdown",
   "id": "1232d6d7-85df-40c9-b6b9-8c7486e16fb6",
   "metadata": {},
   "source": [
    "### Objective\n",
    "\n",
    "The goal is to track how stock quantities change over the days of the month and provide insights into product availability and movement trends."
   ]
  },
  {
   "cell_type": "markdown",
   "id": "aecf5fd2-8fe6-42f9-afe7-d464ebe6b517",
   "metadata": {},
   "source": [
    "### Research Questions\n",
    "1. Which day had the most significant drop or increase in total stock quantity, and what might explain this?\n",
    "2. Are there any products that were consistently unavailable? If so, which ones?\n",
    "3. What trends are observed in stock movement over the month (e.g., increasing, decreasing, or stable)? "
   ]
  },
  {
   "cell_type": "markdown",
   "id": "b0d40570-6bbf-4de3-8b3d-35c94e69c474",
   "metadata": {},
   "source": [
    "### 1. Importing the necesarry libraries"
   ]
  },
  {
   "cell_type": "code",
   "execution_count": 1,
   "id": "c4f13ad5-64b1-4b15-aa33-74f11dd0ad2c",
   "metadata": {},
   "outputs": [],
   "source": [
    "import pandas as pd \n",
    "import numpy as np\n",
    "import matplotlib.pyplot as plt\n",
    "import seaborn as sns"
   ]
  },
  {
   "cell_type": "markdown",
   "id": "df7e4d27-49ae-446a-9baa-67d2d9105412",
   "metadata": {},
   "source": [
    "### 2. Loading the Dataset"
   ]
  },
  {
   "cell_type": "code",
   "execution_count": 2,
   "id": "68cb82bf-1f3b-4a54-9bea-8507950e49aa",
   "metadata": {},
   "outputs": [
    {
     "data": {
      "text/html": [
       "<div>\n",
       "<style scoped>\n",
       "    .dataframe tbody tr th:only-of-type {\n",
       "        vertical-align: middle;\n",
       "    }\n",
       "\n",
       "    .dataframe tbody tr th {\n",
       "        vertical-align: top;\n",
       "    }\n",
       "\n",
       "    .dataframe thead th {\n",
       "        text-align: right;\n",
       "    }\n",
       "</style>\n",
       "<table border=\"1\" class=\"dataframe\">\n",
       "  <thead>\n",
       "    <tr style=\"text-align: right;\">\n",
       "      <th></th>\n",
       "      <th>REP NAME</th>\n",
       "      <th>REGION</th>\n",
       "      <th>CATEGORY</th>\n",
       "      <th>SUPERVISOR</th>\n",
       "      <th>CUSTOMER ID</th>\n",
       "      <th>CUSTOMER CODE</th>\n",
       "      <th>CUSTOMER NAME</th>\n",
       "      <th>CUSTOMER CATEGORY</th>\n",
       "      <th>CHANNEL TYPE</th>\n",
       "      <th>DISPLAY TYPE</th>\n",
       "      <th>...</th>\n",
       "      <th>PRODUCT CATEGORY</th>\n",
       "      <th>BRAND NAME</th>\n",
       "      <th>PRODUCT DESCRIPTION</th>\n",
       "      <th>STOCK LEVEL</th>\n",
       "      <th>QUANTITY</th>\n",
       "      <th>PRESSURE TARGET</th>\n",
       "      <th>PERECENTAGE PRESSURE TARGET</th>\n",
       "      <th>REASON</th>\n",
       "      <th>NOTES</th>\n",
       "      <th>DATE REPORTED</th>\n",
       "    </tr>\n",
       "  </thead>\n",
       "  <tbody>\n",
       "    <tr>\n",
       "      <th>0</th>\n",
       "      <td>TABITHA MUENI</td>\n",
       "      <td>NAIROBI</td>\n",
       "      <td>MERCHANDISERS</td>\n",
       "      <td>Wycliffe Omondi</td>\n",
       "      <td>232</td>\n",
       "      <td>NaN</td>\n",
       "      <td>MUHINDI MWEUSI TASSIA</td>\n",
       "      <td>SMALL SUPERMARKETS</td>\n",
       "      <td>DEEP TRADE</td>\n",
       "      <td>NaN</td>\n",
       "      <td>...</td>\n",
       "      <td>Hair food</td>\n",
       "      <td>NaN</td>\n",
       "      <td>MOVIT HAIR FOOD 200 GM</td>\n",
       "      <td>Available</td>\n",
       "      <td>4.0</td>\n",
       "      <td>0</td>\n",
       "      <td>0.0</td>\n",
       "      <td>NaN</td>\n",
       "      <td>NaN</td>\n",
       "      <td>2025-02-28 17:02:59</td>\n",
       "    </tr>\n",
       "    <tr>\n",
       "      <th>1</th>\n",
       "      <td>Evalyne Gatwiri</td>\n",
       "      <td>MOUNTAIN</td>\n",
       "      <td>MERCHANDISERS</td>\n",
       "      <td>Wycliffe Omondi</td>\n",
       "      <td>352</td>\n",
       "      <td>NaN</td>\n",
       "      <td>CYLET EMBU</td>\n",
       "      <td>SMALL SUPERMARKETS</td>\n",
       "      <td>DEEP TRADE</td>\n",
       "      <td>NaN</td>\n",
       "      <td>...</td>\n",
       "      <td>Relaxer</td>\n",
       "      <td>NaN</td>\n",
       "      <td>MOVIT HAIR SUPER RELAXER 150 GM</td>\n",
       "      <td>Available</td>\n",
       "      <td>5.0</td>\n",
       "      <td>0</td>\n",
       "      <td>0.0</td>\n",
       "      <td>NaN</td>\n",
       "      <td>NaN</td>\n",
       "      <td>2025-02-28 15:03:18</td>\n",
       "    </tr>\n",
       "    <tr>\n",
       "      <th>2</th>\n",
       "      <td>Evalyne Gatwiri</td>\n",
       "      <td>MOUNTAIN</td>\n",
       "      <td>MERCHANDISERS</td>\n",
       "      <td>Wycliffe Omondi</td>\n",
       "      <td>352</td>\n",
       "      <td>NaN</td>\n",
       "      <td>CYLET EMBU</td>\n",
       "      <td>SMALL SUPERMARKETS</td>\n",
       "      <td>DEEP TRADE</td>\n",
       "      <td>NaN</td>\n",
       "      <td>...</td>\n",
       "      <td>Relaxer</td>\n",
       "      <td>NaN</td>\n",
       "      <td>MOVIT HAIR SUPER RELAXER 250 GM</td>\n",
       "      <td>Available</td>\n",
       "      <td>9.0</td>\n",
       "      <td>0</td>\n",
       "      <td>0.0</td>\n",
       "      <td>NaN</td>\n",
       "      <td>NaN</td>\n",
       "      <td>2025-02-28 15:03:18</td>\n",
       "    </tr>\n",
       "  </tbody>\n",
       "</table>\n",
       "<p>3 rows × 23 columns</p>\n",
       "</div>"
      ],
      "text/plain": [
       "          REP NAME    REGION       CATEGORY       SUPERVISOR  CUSTOMER ID  \\\n",
       "0    TABITHA MUENI   NAIROBI  MERCHANDISERS  Wycliffe Omondi          232   \n",
       "1  Evalyne Gatwiri  MOUNTAIN  MERCHANDISERS  Wycliffe Omondi          352   \n",
       "2  Evalyne Gatwiri  MOUNTAIN  MERCHANDISERS  Wycliffe Omondi          352   \n",
       "\n",
       "   CUSTOMER CODE          CUSTOMER NAME   CUSTOMER CATEGORY CHANNEL TYPE  \\\n",
       "0            NaN  MUHINDI MWEUSI TASSIA  SMALL SUPERMARKETS   DEEP TRADE   \n",
       "1            NaN             CYLET EMBU  SMALL SUPERMARKETS   DEEP TRADE   \n",
       "2            NaN             CYLET EMBU  SMALL SUPERMARKETS   DEEP TRADE   \n",
       "\n",
       "   DISPLAY TYPE  ... PRODUCT CATEGORY BRAND NAME  \\\n",
       "0           NaN  ...        Hair food        NaN   \n",
       "1           NaN  ...          Relaxer        NaN   \n",
       "2           NaN  ...          Relaxer        NaN   \n",
       "\n",
       "               PRODUCT DESCRIPTION STOCK LEVEL QUANTITY PRESSURE TARGET  \\\n",
       "0           MOVIT HAIR FOOD 200 GM   Available      4.0               0   \n",
       "1  MOVIT HAIR SUPER RELAXER 150 GM   Available      5.0               0   \n",
       "2  MOVIT HAIR SUPER RELAXER 250 GM   Available      9.0               0   \n",
       "\n",
       "  PERECENTAGE PRESSURE TARGET  REASON  NOTES       DATE REPORTED  \n",
       "0                         0.0     NaN    NaN 2025-02-28 17:02:59  \n",
       "1                         0.0     NaN    NaN 2025-02-28 15:03:18  \n",
       "2                         0.0     NaN    NaN 2025-02-28 15:03:18  \n",
       "\n",
       "[3 rows x 23 columns]"
      ]
     },
     "execution_count": 2,
     "metadata": {},
     "output_type": "execute_result"
    }
   ],
   "source": [
    "movit_data = pd.read_excel('C:/Users/DELL/Documents/My_project/Movit Stock Movement Analysis/Data/Movit Stock Movement Analysis.xlsx')\n",
    "\n",
    "## Display the first few rows of the DataFrame\n",
    "movit_data.head(3)"
   ]
  },
  {
   "cell_type": "markdown",
   "id": "90efdf5a-0d88-427f-858f-f0cc5de237e3",
   "metadata": {},
   "source": [
    "### 3. Displaying summary statistics for the dataframe"
   ]
  },
  {
   "cell_type": "code",
   "execution_count": 3,
   "id": "3a63a077-836d-40e1-bd54-b8fea3ba3aff",
   "metadata": {},
   "outputs": [
    {
     "name": "stdout",
     "output_type": "stream",
     "text": [
      "<class 'pandas.core.frame.DataFrame'>\n",
      "RangeIndex: 97768 entries, 0 to 97767\n",
      "Data columns (total 23 columns):\n",
      " #   Column                       Non-Null Count  Dtype         \n",
      "---  ------                       --------------  -----         \n",
      " 0   REP NAME                     97768 non-null  object        \n",
      " 1   REGION                       97768 non-null  object        \n",
      " 2   CATEGORY                     97768 non-null  object        \n",
      " 3   SUPERVISOR                   97768 non-null  object        \n",
      " 4   CUSTOMER ID                  97768 non-null  int64         \n",
      " 5   CUSTOMER CODE                55526 non-null  float64       \n",
      " 6   CUSTOMER NAME                97768 non-null  object        \n",
      " 7   CUSTOMER CATEGORY            97768 non-null  object        \n",
      " 8   CHANNEL TYPE                 95873 non-null  object        \n",
      " 9   DISPLAY TYPE                 0 non-null      float64       \n",
      " 10  ACCOUNT NAME                 41250 non-null  object        \n",
      " 11  CUSTOMER LOCATION            97768 non-null  object        \n",
      " 12  PRODUCT CODE                 97768 non-null  int64         \n",
      " 13  PRODUCT CATEGORY             97768 non-null  object        \n",
      " 14  BRAND NAME                   423 non-null    object        \n",
      " 15  PRODUCT DESCRIPTION          97768 non-null  object        \n",
      " 16  STOCK LEVEL                  97766 non-null  object        \n",
      " 17  QUANTITY                     97768 non-null  float64       \n",
      " 18  PRESSURE TARGET              97768 non-null  int64         \n",
      " 19  PERECENTAGE PRESSURE TARGET  97768 non-null  float64       \n",
      " 20  REASON                       49380 non-null  object        \n",
      " 21  NOTES                        19 non-null     object        \n",
      " 22  DATE REPORTED                97768 non-null  datetime64[ns]\n",
      "dtypes: datetime64[ns](1), float64(4), int64(3), object(15)\n",
      "memory usage: 17.2+ MB\n",
      "None \n",
      "\n",
      " The shape of the Dataframe is: (97768, 23)\n"
     ]
    }
   ],
   "source": [
    "print(movit_data.info(),\"\\n\")\n",
    "print(f' The shape of the Dataframe is:', movit_data.shape)"
   ]
  },
  {
   "cell_type": "markdown",
   "id": "0eeb1936-b2e6-4c1c-aa53-c773a85a83e7",
   "metadata": {},
   "source": [
    "### 4. Creating a new dataframe with key columns & filtering the dataframe to include only records from February 2025"
   ]
  },
  {
   "cell_type": "code",
   "execution_count": 4,
   "id": "547643ec-bded-488d-b3d6-e30c96ab3f01",
   "metadata": {},
   "outputs": [
    {
     "data": {
      "text/html": [
       "<div>\n",
       "<style scoped>\n",
       "    .dataframe tbody tr th:only-of-type {\n",
       "        vertical-align: middle;\n",
       "    }\n",
       "\n",
       "    .dataframe tbody tr th {\n",
       "        vertical-align: top;\n",
       "    }\n",
       "\n",
       "    .dataframe thead th {\n",
       "        text-align: right;\n",
       "    }\n",
       "</style>\n",
       "<table border=\"1\" class=\"dataframe\">\n",
       "  <thead>\n",
       "    <tr style=\"text-align: right;\">\n",
       "      <th></th>\n",
       "      <th>DATE REPORTED</th>\n",
       "      <th>PRODUCT DESCRIPTION</th>\n",
       "      <th>STOCK LEVEL</th>\n",
       "      <th>QUANTITY</th>\n",
       "      <th>CUSTOMER NAME</th>\n",
       "      <th>REGION</th>\n",
       "    </tr>\n",
       "  </thead>\n",
       "  <tbody>\n",
       "    <tr>\n",
       "      <th>97767</th>\n",
       "      <td>2025-02-01</td>\n",
       "      <td>BABY JUNIOR 120G</td>\n",
       "      <td>Not available</td>\n",
       "      <td>0</td>\n",
       "      <td>CITI MART MIGORY</td>\n",
       "      <td>NYANZA</td>\n",
       "    </tr>\n",
       "    <tr>\n",
       "      <th>96260</th>\n",
       "      <td>2025-02-01</td>\n",
       "      <td>MOVIT COLD WAVE CREME 150 GM</td>\n",
       "      <td>Not available</td>\n",
       "      <td>0</td>\n",
       "      <td>TAMU</td>\n",
       "      <td>NYANZA</td>\n",
       "    </tr>\n",
       "    <tr>\n",
       "      <th>96261</th>\n",
       "      <td>2025-02-01</td>\n",
       "      <td>RADIANT BRAID SPRAY 50ML NEW</td>\n",
       "      <td>Not available</td>\n",
       "      <td>0</td>\n",
       "      <td>TAMU</td>\n",
       "      <td>NYANZA</td>\n",
       "    </tr>\n",
       "  </tbody>\n",
       "</table>\n",
       "</div>"
      ],
      "text/plain": [
       "      DATE REPORTED           PRODUCT DESCRIPTION    STOCK LEVEL  QUANTITY  \\\n",
       "97767    2025-02-01              BABY JUNIOR 120G  Not available         0   \n",
       "96260    2025-02-01  MOVIT COLD WAVE CREME 150 GM  Not available         0   \n",
       "96261    2025-02-01  RADIANT BRAID SPRAY 50ML NEW  Not available         0   \n",
       "\n",
       "          CUSTOMER NAME  REGION  \n",
       "97767  CITI MART MIGORY  NYANZA  \n",
       "96260              TAMU  NYANZA  \n",
       "96261              TAMU  NYANZA  "
      ]
     },
     "execution_count": 4,
     "metadata": {},
     "output_type": "execute_result"
    }
   ],
   "source": [
    "\n",
    "#selecting the key columns\n",
    "key_columns = ['DATE REPORTED', 'PRODUCT DESCRIPTION', 'STOCK LEVEL', 'QUANTITY', 'CUSTOMER NAME', 'REGION']\n",
    "movit_key_columns = movit_data[key_columns].copy()\n",
    "\n",
    "# Convert 'DATE REPORTED' to datetime format and extract the date part  \n",
    "movit_key_columns['DATE REPORTED'] = pd.to_datetime(movit_key_columns['DATE REPORTED']).dt.date\n",
    "\n",
    "# Convert 'QUANTITY' column to integers  \n",
    "movit_key_columns['QUANTITY'] = movit_key_columns['QUANTITY'].astype(int)  # Converts the column to int  \n",
    "\n",
    "# Create date range for February 2025  \n",
    "start_date = pd.to_datetime('2025-02-01').date()\n",
    "end_date = pd.to_datetime('2025-02-28').date()\n",
    "\n",
    "# Filter for records from February 2025  \n",
    "movit_key_columns = movit_key_columns[\n",
    "    (movit_key_columns['DATE REPORTED'] >= start_date) & \n",
    "    (movit_key_columns['DATE REPORTED'] <= end_date)\n",
    "]\n",
    "\n",
    "#sort the filtered DataFrame by 'DATE REPORTED'  \n",
    "movit_key_columns = movit_key_columns.sort_values(by='DATE REPORTED')  \n",
    "\n",
    "#Save the new Dataframe\n",
    "#movit_key_columns.to_csv('C:/Users/DELL/Documents/My_project/Movit Stock Movement Analysis/Data/movit_key_columns.csv', index=False)\n",
    "\n",
    "# Load the CSV and ensure 'DATE REPORTED' is in datetime format\n",
    "#file_path = 'C:/Users/DELL/Documents/My_project/Movit Stock Movement Analysis/Data/movit_key_columns.csv'\n",
    "#movit_key_columns = pd.read_csv(file_path, parse_dates=['DATE REPORTED'])\n",
    "\n",
    "movit_key_columns.head(3)#Displays the 1st three rows of the Dataframe."
   ]
  },
  {
   "cell_type": "markdown",
   "id": "cd83198f-6b51-4932-a25d-3421243cdd47",
   "metadata": {},
   "source": [
    "### 5. Summary statistics of the new dataframe (movit_key_columns)"
   ]
  },
  {
   "cell_type": "code",
   "execution_count": 5,
   "id": "84d694b1-1eeb-4b14-8eb6-19c0ad392945",
   "metadata": {},
   "outputs": [
    {
     "name": "stdout",
     "output_type": "stream",
     "text": [
      "<class 'pandas.core.frame.DataFrame'>\n",
      "Index: 97768 entries, 97767 to 0\n",
      "Data columns (total 6 columns):\n",
      " #   Column               Non-Null Count  Dtype \n",
      "---  ------               --------------  ----- \n",
      " 0   DATE REPORTED        97768 non-null  object\n",
      " 1   PRODUCT DESCRIPTION  97768 non-null  object\n",
      " 2   STOCK LEVEL          97766 non-null  object\n",
      " 3   QUANTITY             97768 non-null  int64 \n",
      " 4   CUSTOMER NAME        97768 non-null  object\n",
      " 5   REGION               97768 non-null  object\n",
      "dtypes: int64(1), object(5)\n",
      "memory usage: 5.2+ MB\n"
     ]
    }
   ],
   "source": [
    "movit_key_columns.info()"
   ]
  },
  {
   "cell_type": "markdown",
   "id": "1e8ce62e-098f-4b67-9099-e0d32f0d99f5",
   "metadata": {},
   "source": [
    "### 6. Shape of the dataframe"
   ]
  },
  {
   "cell_type": "code",
   "execution_count": 6,
   "id": "485bb57a-d262-4067-82f3-ab5c5bab70cd",
   "metadata": {},
   "outputs": [
    {
     "name": "stdout",
     "output_type": "stream",
     "text": [
      "The shape of the dataframe is: (97768, 6)\n"
     ]
    }
   ],
   "source": [
    "print(f'The shape of the dataframe is:',movit_key_columns.shape) #checks how may rows and colums the dataframe has in the formart (rows, colums)"
   ]
  },
  {
   "cell_type": "markdown",
   "id": "0ed1ab0c-bdc3-452c-bda3-a636269f9e59",
   "metadata": {},
   "source": [
    "### 7. Checking for missing values"
   ]
  },
  {
   "cell_type": "code",
   "execution_count": 7,
   "id": "7c4b6f4c-8c43-4294-9e7d-6332655256b1",
   "metadata": {},
   "outputs": [
    {
     "name": "stdout",
     "output_type": "stream",
     "text": [
      "Missing values in movit_key before filling:\n",
      "DATE REPORTED          0\n",
      "PRODUCT DESCRIPTION    0\n",
      "STOCK LEVEL            2\n",
      "QUANTITY               0\n",
      "CUSTOMER NAME          0\n",
      "REGION                 0\n",
      "dtype: int64\n"
     ]
    }
   ],
   "source": [
    "# Check for missing values before filling  \n",
    "missing_values_before = movit_key_columns.isnull().sum()  \n",
    "print('Missing values in movit_key before filling:')  \n",
    "print(missing_values_before)  "
   ]
  },
  {
   "cell_type": "markdown",
   "id": "6f6dd207-72f4-49ff-b4c1-29a1b2ca614d",
   "metadata": {},
   "source": [
    "### 8. Handling missing values"
   ]
  },
  {
   "cell_type": "code",
   "execution_count": 8,
   "id": "9c8459fb-5cfc-4e26-8875-d071de2508f3",
   "metadata": {},
   "outputs": [],
   "source": [
    "# Fill missing values in 'STOCK VALUE' based on 'QUANTITY'  \n",
    "movit_key_columns['STOCK LEVEL'] = movit_key_columns['STOCK LEVEL'].fillna(\n",
    "    movit_key_columns['QUANTITY'].apply(lambda x: 'Available' if x >= 1 else 'Not available')\n",
    ")\n",
    "movit_key_columns.to_csv('C:/Users/DELL/Documents/My_project/Movit Stock Movement Analysis/Data/movit_key_columns.csv', index=False)\n",
    "#Explanation:\n",
    "#.fillna() replaces missing values in \"STOCK VALUE\".\n",
    "#.apply(lambda x: 'Not available' if x == 0 else 'Available') checks the \"QUANTITY\" column:\n",
    "#If QUANTITY == 0, set \"STOCK VALUE\" to \"Not available\".\n",
    "#Otherwise, set \"STOCK VALUE\" to \"Available\"."
   ]
  },
  {
   "cell_type": "code",
   "execution_count": 9,
   "id": "76fa830e-1bba-46d5-b920-b7d0fbb4f512",
   "metadata": {},
   "outputs": [
    {
     "name": "stdout",
     "output_type": "stream",
     "text": [
      "Missing values in 'STOCK Level' after filling is: 0\n"
     ]
    }
   ],
   "source": [
    "stock_value_missing = movit_key_columns['STOCK LEVEL'].isnull().sum()  \n",
    "print(f\"Missing values in 'STOCK Level' after filling is: {stock_value_missing}\")  "
   ]
  },
  {
   "cell_type": "markdown",
   "id": "b9cc9ac0-4552-4e04-9345-e8dd42cd2045",
   "metadata": {},
   "source": [
    "### 9.  Descriptive statistics"
   ]
  },
  {
   "cell_type": "code",
   "execution_count": 10,
   "id": "9637a49e-c2cb-40ed-b685-0bea7a5520b8",
   "metadata": {},
   "outputs": [
    {
     "data": {
      "text/html": [
       "<div>\n",
       "<style scoped>\n",
       "    .dataframe tbody tr th:only-of-type {\n",
       "        vertical-align: middle;\n",
       "    }\n",
       "\n",
       "    .dataframe tbody tr th {\n",
       "        vertical-align: top;\n",
       "    }\n",
       "\n",
       "    .dataframe thead th {\n",
       "        text-align: right;\n",
       "    }\n",
       "</style>\n",
       "<table border=\"1\" class=\"dataframe\">\n",
       "  <thead>\n",
       "    <tr style=\"text-align: right;\">\n",
       "      <th></th>\n",
       "      <th>QUANTITY</th>\n",
       "    </tr>\n",
       "  </thead>\n",
       "  <tbody>\n",
       "    <tr>\n",
       "      <th>count</th>\n",
       "      <td>97768.000000</td>\n",
       "    </tr>\n",
       "    <tr>\n",
       "      <th>mean</th>\n",
       "      <td>5.573194</td>\n",
       "    </tr>\n",
       "    <tr>\n",
       "      <th>std</th>\n",
       "      <td>11.877533</td>\n",
       "    </tr>\n",
       "    <tr>\n",
       "      <th>min</th>\n",
       "      <td>0.000000</td>\n",
       "    </tr>\n",
       "    <tr>\n",
       "      <th>25%</th>\n",
       "      <td>0.000000</td>\n",
       "    </tr>\n",
       "    <tr>\n",
       "      <th>50%</th>\n",
       "      <td>0.000000</td>\n",
       "    </tr>\n",
       "    <tr>\n",
       "      <th>75%</th>\n",
       "      <td>9.000000</td>\n",
       "    </tr>\n",
       "    <tr>\n",
       "      <th>max</th>\n",
       "      <td>1816.000000</td>\n",
       "    </tr>\n",
       "  </tbody>\n",
       "</table>\n",
       "</div>"
      ],
      "text/plain": [
       "           QUANTITY\n",
       "count  97768.000000\n",
       "mean       5.573194\n",
       "std       11.877533\n",
       "min        0.000000\n",
       "25%        0.000000\n",
       "50%        0.000000\n",
       "75%        9.000000\n",
       "max     1816.000000"
      ]
     },
     "execution_count": 10,
     "metadata": {},
     "output_type": "execute_result"
    }
   ],
   "source": [
    "movit_key_columns.describe()#generates descriptive statistics of a DataFrame \n",
    "#it returns a table containing various summary statistics for each numerical column."
   ]
  },
  {
   "cell_type": "markdown",
   "id": "620b358c-303d-4c65-b205-02b465ecb574",
   "metadata": {},
   "source": [
    "### 10. Calculating daily stock quantities where \"Stock level\" is \"Available\""
   ]
  },
  {
   "cell_type": "code",
   "execution_count": 11,
   "id": "40f4e4a0-7863-4750-997f-7dfff396ec32",
   "metadata": {},
   "outputs": [
    {
     "data": {
      "text/html": [
       "<div>\n",
       "<style scoped>\n",
       "    .dataframe tbody tr th:only-of-type {\n",
       "        vertical-align: middle;\n",
       "    }\n",
       "\n",
       "    .dataframe tbody tr th {\n",
       "        vertical-align: top;\n",
       "    }\n",
       "\n",
       "    .dataframe thead th {\n",
       "        text-align: right;\n",
       "    }\n",
       "</style>\n",
       "<table border=\"1\" class=\"dataframe\">\n",
       "  <thead>\n",
       "    <tr style=\"text-align: right;\">\n",
       "      <th></th>\n",
       "      <th>DATE REPORTED</th>\n",
       "      <th>QUANTITY</th>\n",
       "    </tr>\n",
       "  </thead>\n",
       "  <tbody>\n",
       "    <tr>\n",
       "      <th>0</th>\n",
       "      <td>2025-02-01</td>\n",
       "      <td>10813</td>\n",
       "    </tr>\n",
       "    <tr>\n",
       "      <th>1</th>\n",
       "      <td>2025-02-03</td>\n",
       "      <td>24463</td>\n",
       "    </tr>\n",
       "    <tr>\n",
       "      <th>2</th>\n",
       "      <td>2025-02-04</td>\n",
       "      <td>25246</td>\n",
       "    </tr>\n",
       "    <tr>\n",
       "      <th>3</th>\n",
       "      <td>2025-02-05</td>\n",
       "      <td>25105</td>\n",
       "    </tr>\n",
       "    <tr>\n",
       "      <th>4</th>\n",
       "      <td>2025-02-06</td>\n",
       "      <td>20684</td>\n",
       "    </tr>\n",
       "  </tbody>\n",
       "</table>\n",
       "</div>"
      ],
      "text/plain": [
       "  DATE REPORTED  QUANTITY\n",
       "0    2025-02-01     10813\n",
       "1    2025-02-03     24463\n",
       "2    2025-02-04     25246\n",
       "3    2025-02-05     25105\n",
       "4    2025-02-06     20684"
      ]
     },
     "execution_count": 11,
     "metadata": {},
     "output_type": "execute_result"
    }
   ],
   "source": [
    "# Filter only records where STOCK LEVEL is \"Available\"\n",
    "available_stock = movit_key_columns[movit_key_columns['STOCK LEVEL'] == \"Available\"]\n",
    "\n",
    "# Group by DATE REPORTED and sum the QUANTITY\n",
    "daily_stock = available_stock.groupby('DATE REPORTED', as_index=False)['QUANTITY'].sum()\n",
    "\n",
    "# Save results to a CSV file\n",
    "#daily_stock.to_csv('C:/Users/DELL/Documents/My_project/Movit Stock Movement Analysis/Data/daily_stock_february.csv', index=False)\n",
    "\n",
    "# Display first few rows\n",
    "daily_stock.head()\n"
   ]
  },
  {
   "cell_type": "markdown",
   "id": "fc04ec28-c1e4-489f-bcb8-2216fc28192c",
   "metadata": {},
   "source": [
    "### 11. Tracking Stock Movement Trends "
   ]
  },
  {
   "cell_type": "code",
   "execution_count": 12,
   "id": "581d109b-78b6-4d87-aaa9-71562cad374f",
   "metadata": {},
   "outputs": [
    {
     "data": {
      "image/png": "[encoded data removed]",
      "text/plain": [
       "<Figure size 640x480 with 1 Axes>"
      ]
     },
     "metadata": {},
     "output_type": "display_data"
    },
    {
     "name": "stdout",
     "output_type": "stream",
     "text": [
      "Highest Stock Day:\n",
      " DATE REPORTED    2025-02-28\n",
      "QUANTITY              29124\n",
      "STOCK CHANGE         2267.0\n",
      "Name: 23, dtype: object \n",
      "\n",
      "Lowest Stock Day:\n",
      " DATE REPORTED    2025-02-01\n",
      "QUANTITY              10813\n",
      "STOCK CHANGE            NaN\n",
      "Name: 0, dtype: object\n",
      "\n",
      "Daily Stock Movement:\n",
      "    DATE REPORTED  QUANTITY  STOCK CHANGE\n",
      "0     2025-02-01     10813           NaN\n",
      "1     2025-02-03     24463       13650.0\n",
      "2     2025-02-04     25246         783.0\n",
      "3     2025-02-05     25105        -141.0\n",
      "4     2025-02-06     20684       -4421.0\n",
      "5     2025-02-07     20775          91.0\n",
      "6     2025-02-08     12606       -8169.0\n",
      "7     2025-02-10     25376       12770.0\n",
      "8     2025-02-11     23495       -1881.0\n",
      "9     2025-02-12     23902         407.0\n",
      "10    2025-02-13     21487       -2415.0\n",
      "11    2025-02-14     21830         343.0\n",
      "12    2025-02-15     11808      -10022.0\n",
      "13    2025-02-17     27538       15730.0\n",
      "14    2025-02-18     24057       -3481.0\n",
      "15    2025-02-19     29030        4973.0\n",
      "16    2025-02-20     22754       -6276.0\n",
      "17    2025-02-21     23929        1175.0\n",
      "18    2025-02-22     12774      -11155.0\n",
      "19    2025-02-24     25953       13179.0\n",
      "20    2025-02-25     28173        2220.0\n",
      "21    2025-02-26     27101       -1072.0\n",
      "22    2025-02-27     26857        -244.0\n",
      "23    2025-02-28     29124        2267.0\n"
     ]
    }
   ],
   "source": [
    "\n",
    "# Filter available stock  \n",
    "feb_stock = movit_key_columns[movit_key_columns['STOCK LEVEL'] == 'Available']\n",
    "\n",
    "# Group by date and sum quantity  \n",
    "daily_stock = feb_stock.groupby('DATE REPORTED', as_index=False)['QUANTITY'].sum()\n",
    "\n",
    "# Calculate daily stock movement  \n",
    "daily_stock['STOCK CHANGE'] = daily_stock['QUANTITY'].diff()#.diff() subtracts the previous day's stock from the current day's stock.\n",
    "\n",
    "# Identify highest & lowest stock days  \n",
    "highest_stock = daily_stock.loc[daily_stock['QUANTITY'].idxmax()]#idxmax(): Returns the index of the row where 'QUANTITY' is at its maximum\n",
    "lowest_stock = daily_stock.loc[daily_stock['QUANTITY'].idxmin()]#idxmin(): Returns the index of the row where 'QUANTITY' is at its minimum.\n",
    "\n",
    "# Plot stock trend  \n",
    "plt.plot(daily_stock['DATE REPORTED'], daily_stock['QUANTITY'], marker='o')  \n",
    "plt.xlabel('Date')  \n",
    "plt.ylabel('Total Stock')  \n",
    "plt.title('Daily Stock Trends in February 2025')  \n",
    "plt.xticks(rotation=45)  \n",
    "plt.show()\n",
    "\n",
    "# Display results  \n",
    "print(\"Highest Stock Day:\\n\", highest_stock, \"\\n\")  \n",
    "print(\"Lowest Stock Day:\\n\", lowest_stock)  \n",
    "print(\"\\nDaily Stock Movement:\\n\", daily_stock)\n"
   ]
  },
  {
   "cell_type": "markdown",
   "id": "e060f05c-20cf-4af7-b7fe-8784ff2ceca4",
   "metadata": {},
   "source": [
    "### 12. product availability "
   ]
  },
  {
   "cell_type": "markdown",
   "id": "3626728f-76a0-4f74-837c-71ca59fbc1d9",
   "metadata": {},
   "source": [
    "Any three specific products will be selected and:\n",
    "* Count the number of days each product was \"Available\" across all stores.\n",
    "* Calculate the average daily quantity for each product when it was \"Available\".\n",
    "* Highlight any days where these products were \"Not available\" in all recorded store"
   ]
  },
  {
   "cell_type": "code",
   "execution_count": 13,
   "id": "4fbb8ec6-57d7-46b1-a2fb-e4dc9db488a6",
   "metadata": {},
   "outputs": [
    {
     "name": "stdout",
     "output_type": "stream",
     "text": [
      "Days Available:\n",
      " PRODUCT DESCRIPTION\n",
      "MOVIT CURL ACTIVATOR 360 GM    24\n",
      "MOVIT HAIR FOOD 200 GM         24\n",
      "RADIANT HAIR DYE 120 ML        24\n",
      "Name: DATE REPORTED, dtype: int64\n",
      "\n",
      "Average Daily Quantity:\n",
      " PRODUCT DESCRIPTION\n",
      "MOVIT CURL ACTIVATOR 360 GM    8.582411\n",
      "MOVIT HAIR FOOD 200 GM         1.284091\n",
      "RADIANT HAIR DYE 120 ML        7.268973\n",
      "Name: QUANTITY, dtype: float64\n",
      "\n",
      "Days Not Available: []\n"
     ]
    }
   ],
   "source": [
    "# Define the selected products\n",
    "selected_products = [\n",
    "    \"MOVIT HAIR FOOD 200 GM\",\n",
    "    \"MOVIT CURL ACTIVATOR 360 GM\",\n",
    "    \"RADIANT HAIR DYE 120 ML\"\n",
    "]\n",
    "\n",
    "# Filter data for selected products\n",
    "product_data = movit_key_columns[movit_key_columns['PRODUCT DESCRIPTION'].isin(selected_products)]\n",
    "\n",
    "# Count the number of days each product was available\n",
    "availability_count = product_data.groupby('PRODUCT DESCRIPTION')['DATE REPORTED'].nunique()\n",
    "\n",
    "# Calculate the average daily quantity for each product when available\n",
    "average_quantity = product_data.groupby('PRODUCT DESCRIPTION')['QUANTITY'].mean()\n",
    "\n",
    "# Identify days when none of the selected products were available\n",
    "all_dates = movit_key_columns['DATE REPORTED'].unique()\n",
    "\n",
    "not_available_days = [\n",
    "    date for date in all_dates\n",
    "    if movit_key_columns[(movit_key_columns['DATE REPORTED'] == date) &\n",
    "                         (movit_key_columns['PRODUCT DESCRIPTION'].isin(selected_products))].empty\n",
    "]\n",
    "\n",
    "# Display results\n",
    "print(\"Days Available:\\n\", availability_count)\n",
    "print(\"\\nAverage Daily Quantity:\\n\", average_quantity)\n",
    "print(\"\\nDays Not Available:\", not_available_days)\n"
   ]
  },
  {
   "cell_type": "markdown",
   "id": "f5134cda-2042-4a54-8335-6e1cc87b748a",
   "metadata": {},
   "source": [
    "## Findings "
   ]
  },
  {
   "cell_type": "markdown",
   "id": "1f76b1aa-5172-4827-8338-3cd8138fb16c",
   "metadata": {},
   "source": [
    "1. The total available stock fluctuated significantly throughout February 2025. The **lowest** recorded stock was on **February 1st** (10,813 units), while the **highest** was on **February 29th** (29,124 units). Despite fluctuations, stock levels showed an overall upward trend towards the end of the month.\n",
    "2. The most significant **drop** in total stock quantity occurred on **February 23rd** (-11,155 units). This could be due to a large bulk sale, stock transfer, or supply chain issues affecting replenishment. The most significant **increase** happened on **February 17th** (+15,730 units). This spike might be explained by a major restocking event, shipment arrival, or inventory adjustment after a previous shortage.\n",
    "3. The analysis revealed that certain products were consistently unavailable throughout February 2025. These include MOVIT BLOWOUT 500G, MOVIT BRAIDS SPRAY 250ML, MOVIT HAIR TREATMENT (150GM & 250GM), MOVIT HERBAL SOAP 55G, MOVIT PETROLEUM JELLY 100G, MOVIT SULPHUR HAIR POMADE (200G & 450G), RADIANT MAYONNAISE HAIR CONDITIONER 450G, and RADIANT STYLING GEL ARGAN OIL 50G. The persistent absence of these items could indicate discontinued production, inventory mismanagement, or a lack of demand.\n",
    "4. The stock movement throughout February 2025 showed significant fluctuations rather than a stable trend. There were sharp increases and drops around February 9, 15, and 23, which could mean high sales or supply issues. However, stock was refilled after these drops, showing that restocking happened regularly.\n",
    "5. Sales were highest in **Nairobi (168,126 units)**, followed by **Rift Valley, Coast, Western, Mountain, Nyanza,** and **Eastern (24,171 units, lowest)**. This indicates stronger sales in urban and densely populated areas, with Nairobi leading by a wide margin."
   ]
  },
  {
   "cell_type": "markdown",
   "id": "93fd8a2c-a808-415d-a4d8-0d2354a57928",
   "metadata": {},
   "source": [
    "## Recommendations"
   ]
  },
  {
   "cell_type": "markdown",
   "id": "703e00f0-45df-44cc-ac80-7dd2fcce3b3a",
   "metadata": {},
   "source": [
    "1. Strengthen Inventory Management: Maintain a strong watch over stock from large drops to avoid shortages.\n",
    "2. Probe Unavailable Goods: Verify whether those items that are always sold out have been discontinued or need to be put back into stock.\n",
    "3. Better Supply Chain Management: Identify causes of fluctuations in stock and put in place timely replenishment.\n",
    "4. Sales Trend Analysis: Since Nairobi has the highest sales, consider increasing stock allocation to high-demand regions and investigating the low sales in Eastern to improve market penetration."
   ]
  },
  {
   "cell_type": "markdown",
   "id": "ad9965d1-da6a-4a52-aa76-2142aa3935a9",
   "metadata": {},
   "source": [
    "## Conclusion"
   ]
  },
  {
   "attachments": {},
   "cell_type": "markdown",
   "id": "6ba07b25-5711-4174-a8d0-8c47195e1f12",
   "metadata": {},
   "source": [
    "Stock levels in February 2025 fluctuated significantly, with notable drops and refills. The highest stock was recorded at the end of the month, suggesting a general upward trend. Some products were never available, possibly due to supply chain issues or low demand. Additionally, Nairobi led in sales by a significant margin, while Eastern had the lowest. Regular monitoring, better inventory planning, and strategic stock allocation based on regional demand can help maintain steady stock levels and optimize sales performance."
   ]
  },
  {
   "cell_type": "code",
   "execution_count": null,
   "id": "81b6e9f4-d140-471c-9d17-e8f0832159d0",
   "metadata": {},
   "outputs": [],
   "source": []
  }
 ],
 "metadata": {
  "kernelspec": {
   "display_name": "Python 3 (ipykernel)",
   "language": "python",
   "name": "python3"
  },
  "language_info": {
   "codemirror_mode": {
    "name": "ipython",
    "version": 3
   },
   "file_extension": ".py",
   "mimetype": "text/x-python",
   "name": "python",
   "nbconvert_exporter": "python",
   "pygments_lexer": "ipython3",
   "version": "3.13.1"
  }
 },
 "nbformat": 4,
 "nbformat_minor": 5
}
