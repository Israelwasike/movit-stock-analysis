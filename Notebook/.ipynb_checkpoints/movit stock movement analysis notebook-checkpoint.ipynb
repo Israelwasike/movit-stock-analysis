{
 "cells": [
  {
   "cell_type": "markdown",
   "id": "cdcad388-6a23-4a43-8e95-3a69be559707",
   "metadata": {},
   "source": [
    "## MOVIT STOCK MOVEMENT ANALYSIS"
   ]
  },
  {
   "cell_type": "markdown",
   "id": "415e1127-3727-4c24-92fb-0309d89a54fe",
   "metadata": {},
   "source": [
    "* By: ***Israel Wasike Kahayi***"
   ]
  },
  {
   "cell_type": "markdown",
   "id": "e3206d8d-6fee-47a7-b9c7-9c65eb6cd7a4",
   "metadata": {},
   "source": [
    "### Overview"
   ]
  },
  {
   "cell_type": "markdown",
   "id": "3478d738-79e3-40d8-aced-49903a190b91",
   "metadata": {},
   "source": [
    "This analysis focuses on the stock movement of hair care products across various stores in February 2025. By examining the changes in stock quantities over the month, I aim to identify trends in product availability and movement, which are crucial for effective inventory management and maximizing customer satisfaction.\n",
    "\n",
    "The dataset contains stock information collected by merchandisers from various stores. Key columns relevant to this analysis include: \n",
    "* **DATE REPORTED:** The date and time when the stock was recorded. \n",
    "* **PRODUCT DESCRIPTION:** The name and size of the product (e.g., \"MOVIT HAIR FOOD \n",
    "200 GM\"). \n",
    "* **STOCK LEVEL:** Indicates if the product is \"Available\" or \"Not available\".\n",
    "* **QUANTITY:** The number of units in stock when the product is \"Available\".\n",
    "* **CUSTOMER NAME:** The store where the stock was recorded (e.g., \"CYLETEMBU\"). \n",
    "* **REGION:** The geographical region of the store (e.g.,\"NYANZA\"). "
   ]
  },
  {
   "cell_type": "markdown",
   "id": "a1aa23ca-7ec5-4769-b884-24c3185a9c51",
   "metadata": {},
   "source": [
    "### Introduction\n",
    "\n",
    "In this notebook, I will clean and prepare data on Movit hair care products for February 2025. This includes handling missing values, correcting data types, and standardizing formats to ensure the data is ready for analysis and visualization."
   ]
  },
  {
   "cell_type": "markdown",
   "id": "1232d6d7-85df-40c9-b6b9-8c7486e16fb6",
   "metadata": {},
   "source": [
    "### Objective\n",
    "\n",
    "The goal is to track how stock quantities change over the days of the month and provide insights into product availability and movement trends."
   ]
  },
  {
   "cell_type": "markdown",
   "id": "aecf5fd2-8fe6-42f9-afe7-d464ebe6b517",
   "metadata": {},
   "source": [
    "### Research Questions\n",
    "* **Daily Stock Quantities**\n",
    "\n",
    "1. What is the total quantity of hair care products available across all stores for each day in February 2025 when the stock level is labelled \"Available\"?\n",
    "\n",
    "* **Stock Movement Trends**\n",
    "\n",
    "2. How do total available stock quantities change on a daily basis throughout February 2025?\n",
    "3. Which days in February 2025 exhibit the highest and lowest total stock quantities?\n",
    "4. What are the daily differences in stock quantities between consecutive days in February 2025?\n",
    "\n",
    "* **Product Availability Analysis**\n",
    "\n",
    "5. For the selected products (\"MOVIT HAIR FOOD 200 GM,\" \"MOVIT CURL ACTIVATOR 360 GM,\" and \"RADIANT HAIR DYE 120 ML\"), how many days was each product classified as \"Available\" across all stores?\n",
    "6. What is the average daily quantity for each selected product during the days when they were \"Available\"?\n",
    "7. On which specific days were these products \"Not available\" in all recorded stores?"
   ]
  },
  {
   "cell_type": "markdown",
   "id": "b0d40570-6bbf-4de3-8b3d-35c94e69c474",
   "metadata": {},
   "source": [
    "### 1. Importing the necesarry libraries"
   ]
  },
  {
   "cell_type": "code",
   "execution_count": 1,
   "id": "c4f13ad5-64b1-4b15-aa33-74f11dd0ad2c",
   "metadata": {},
   "outputs": [],
   "source": [
    "import pandas as pd \n",
    "import numpy as np\n",
    "import matplotlib.pyplot as plt\n",
    "import seaborn as sns"
   ]
  },
  {
   "cell_type": "markdown",
   "id": "df7e4d27-49ae-446a-9baa-67d2d9105412",
   "metadata": {},
   "source": [
    "### 2. Loading the Dataset"
   ]
  },
  {
   "cell_type": "code",
   "execution_count": 2,
   "id": "68cb82bf-1f3b-4a54-9bea-8507950e49aa",
   "metadata": {},
   "outputs": [
    {
     "data": {
      "text/html": [
       "<div>\n",
       "<style scoped>\n",
       "    .dataframe tbody tr th:only-of-type {\n",
       "        vertical-align: middle;\n",
       "    }\n",
       "\n",
       "    .dataframe tbody tr th {\n",
       "        vertical-align: top;\n",
       "    }\n",
       "\n",
       "    .dataframe thead th {\n",
       "        text-align: right;\n",
       "    }\n",
       "</style>\n",
       "<table border=\"1\" class=\"dataframe\">\n",
       "  <thead>\n",
       "    <tr style=\"text-align: right;\">\n",
       "      <th></th>\n",
       "      <th>REP NAME</th>\n",
       "      <th>REGION</th>\n",
       "      <th>CATEGORY</th>\n",
       "      <th>SUPERVISOR</th>\n",
       "      <th>CUSTOMER ID</th>\n",
       "      <th>CUSTOMER CODE</th>\n",
       "      <th>CUSTOMER NAME</th>\n",
       "      <th>CUSTOMER CATEGORY</th>\n",
       "      <th>CHANNEL TYPE</th>\n",
       "      <th>DISPLAY TYPE</th>\n",
       "      <th>...</th>\n",
       "      <th>PRODUCT CATEGORY</th>\n",
       "      <th>BRAND NAME</th>\n",
       "      <th>PRODUCT DESCRIPTION</th>\n",
       "      <th>STOCK LEVEL</th>\n",
       "      <th>QUANTITY</th>\n",
       "      <th>PRESSURE TARGET</th>\n",
       "      <th>PERECENTAGE PRESSURE TARGET</th>\n",
       "      <th>REASON</th>\n",
       "      <th>NOTES</th>\n",
       "      <th>DATE REPORTED</th>\n",
       "    </tr>\n",
       "  </thead>\n",
       "  <tbody>\n",
       "    <tr>\n",
       "      <th>0</th>\n",
       "      <td>TABITHA MUENI</td>\n",
       "      <td>NAIROBI</td>\n",
       "      <td>MERCHANDISERS</td>\n",
       "      <td>Wycliffe Omondi</td>\n",
       "      <td>232</td>\n",
       "      <td>NaN</td>\n",
       "      <td>MUHINDI MWEUSI TASSIA</td>\n",
       "      <td>SMALL SUPERMARKETS</td>\n",
       "      <td>DEEP TRADE</td>\n",
       "      <td>NaN</td>\n",
       "      <td>...</td>\n",
       "      <td>Hair food</td>\n",
       "      <td>NaN</td>\n",
       "      <td>MOVIT HAIR FOOD 200 GM</td>\n",
       "      <td>Available</td>\n",
       "      <td>4.0</td>\n",
       "      <td>0</td>\n",
       "      <td>0.0</td>\n",
       "      <td>NaN</td>\n",
       "      <td>NaN</td>\n",
       "      <td>2025-02-28 17:02:59</td>\n",
       "    </tr>\n",
       "    <tr>\n",
       "      <th>1</th>\n",
       "      <td>Evalyne Gatwiri</td>\n",
       "      <td>MOUNTAIN</td>\n",
       "      <td>MERCHANDISERS</td>\n",
       "      <td>Wycliffe Omondi</td>\n",
       "      <td>352</td>\n",
       "      <td>NaN</td>\n",
       "      <td>CYLET EMBU</td>\n",
       "      <td>SMALL SUPERMARKETS</td>\n",
       "      <td>DEEP TRADE</td>\n",
       "      <td>NaN</td>\n",
       "      <td>...</td>\n",
       "      <td>Relaxer</td>\n",
       "      <td>NaN</td>\n",
       "      <td>MOVIT HAIR SUPER RELAXER 150 GM</td>\n",
       "      <td>Available</td>\n",
       "      <td>5.0</td>\n",
       "      <td>0</td>\n",
       "      <td>0.0</td>\n",
       "      <td>NaN</td>\n",
       "      <td>NaN</td>\n",
       "      <td>2025-02-28 15:03:18</td>\n",
       "    </tr>\n",
       "    <tr>\n",
       "      <th>2</th>\n",
       "      <td>Evalyne Gatwiri</td>\n",
       "      <td>MOUNTAIN</td>\n",
       "      <td>MERCHANDISERS</td>\n",
       "      <td>Wycliffe Omondi</td>\n",
       "      <td>352</td>\n",
       "      <td>NaN</td>\n",
       "      <td>CYLET EMBU</td>\n",
       "      <td>SMALL SUPERMARKETS</td>\n",
       "      <td>DEEP TRADE</td>\n",
       "      <td>NaN</td>\n",
       "      <td>...</td>\n",
       "      <td>Relaxer</td>\n",
       "      <td>NaN</td>\n",
       "      <td>MOVIT HAIR SUPER RELAXER 250 GM</td>\n",
       "      <td>Available</td>\n",
       "      <td>9.0</td>\n",
       "      <td>0</td>\n",
       "      <td>0.0</td>\n",
       "      <td>NaN</td>\n",
       "      <td>NaN</td>\n",
       "      <td>2025-02-28 15:03:18</td>\n",
       "    </tr>\n",
       "  </tbody>\n",
       "</table>\n",
       "<p>3 rows × 23 columns</p>\n",
       "</div>"
      ],
      "text/plain": [
       "          REP NAME    REGION       CATEGORY       SUPERVISOR  CUSTOMER ID  \\\n",
       "0    TABITHA MUENI   NAIROBI  MERCHANDISERS  Wycliffe Omondi          232   \n",
       "1  Evalyne Gatwiri  MOUNTAIN  MERCHANDISERS  Wycliffe Omondi          352   \n",
       "2  Evalyne Gatwiri  MOUNTAIN  MERCHANDISERS  Wycliffe Omondi          352   \n",
       "\n",
       "   CUSTOMER CODE          CUSTOMER NAME   CUSTOMER CATEGORY CHANNEL TYPE  \\\n",
       "0            NaN  MUHINDI MWEUSI TASSIA  SMALL SUPERMARKETS   DEEP TRADE   \n",
       "1            NaN             CYLET EMBU  SMALL SUPERMARKETS   DEEP TRADE   \n",
       "2            NaN             CYLET EMBU  SMALL SUPERMARKETS   DEEP TRADE   \n",
       "\n",
       "   DISPLAY TYPE  ... PRODUCT CATEGORY BRAND NAME  \\\n",
       "0           NaN  ...        Hair food        NaN   \n",
       "1           NaN  ...          Relaxer        NaN   \n",
       "2           NaN  ...          Relaxer        NaN   \n",
       "\n",
       "               PRODUCT DESCRIPTION STOCK LEVEL QUANTITY PRESSURE TARGET  \\\n",
       "0           MOVIT HAIR FOOD 200 GM   Available      4.0               0   \n",
       "1  MOVIT HAIR SUPER RELAXER 150 GM   Available      5.0               0   \n",
       "2  MOVIT HAIR SUPER RELAXER 250 GM   Available      9.0               0   \n",
       "\n",
       "  PERECENTAGE PRESSURE TARGET  REASON  NOTES       DATE REPORTED  \n",
       "0                         0.0     NaN    NaN 2025-02-28 17:02:59  \n",
       "1                         0.0     NaN    NaN 2025-02-28 15:03:18  \n",
       "2                         0.0     NaN    NaN 2025-02-28 15:03:18  \n",
       "\n",
       "[3 rows x 23 columns]"
      ]
     },
     "execution_count": 2,
     "metadata": {},
     "output_type": "execute_result"
    }
   ],
   "source": [
    "movit_data = pd.read_excel('C:/Users/DELL/Documents/My_project/Movit Stock Movement Analysis/Data/Movit Stock Movement Analysis.xlsx')\n",
    "\n",
    "## Display the first few rows of the DataFrame\n",
    "movit_data.head(3)"
   ]
  },
  {
   "cell_type": "markdown",
   "id": "90efdf5a-0d88-427f-858f-f0cc5de237e3",
   "metadata": {},
   "source": [
    "Displaying summary statistics for the dataframe"
   ]
  },
  {
   "cell_type": "code",
   "execution_count": 3,
   "id": "3a63a077-836d-40e1-bd54-b8fea3ba3aff",
   "metadata": {},
   "outputs": [
    {
     "name": "stdout",
     "output_type": "stream",
     "text": [
      "<class 'pandas.core.frame.DataFrame'>\n",
      "RangeIndex: 97768 entries, 0 to 97767\n",
      "Data columns (total 23 columns):\n",
      " #   Column                       Non-Null Count  Dtype         \n",
      "---  ------                       --------------  -----         \n",
      " 0   REP NAME                     97768 non-null  object        \n",
      " 1   REGION                       97768 non-null  object        \n",
      " 2   CATEGORY                     97768 non-null  object        \n",
      " 3   SUPERVISOR                   97768 non-null  object        \n",
      " 4   CUSTOMER ID                  97768 non-null  int64         \n",
      " 5   CUSTOMER CODE                55526 non-null  float64       \n",
      " 6   CUSTOMER NAME                97768 non-null  object        \n",
      " 7   CUSTOMER CATEGORY            97768 non-null  object        \n",
      " 8   CHANNEL TYPE                 95873 non-null  object        \n",
      " 9   DISPLAY TYPE                 0 non-null      float64       \n",
      " 10  ACCOUNT NAME                 41250 non-null  object        \n",
      " 11  CUSTOMER LOCATION            97768 non-null  object        \n",
      " 12  PRODUCT CODE                 97768 non-null  int64         \n",
      " 13  PRODUCT CATEGORY             97768 non-null  object        \n",
      " 14  BRAND NAME                   423 non-null    object        \n",
      " 15  PRODUCT DESCRIPTION          97768 non-null  object        \n",
      " 16  STOCK LEVEL                  97766 non-null  object        \n",
      " 17  QUANTITY                     97768 non-null  float64       \n",
      " 18  PRESSURE TARGET              97768 non-null  int64         \n",
      " 19  PERECENTAGE PRESSURE TARGET  97768 non-null  float64       \n",
      " 20  REASON                       49380 non-null  object        \n",
      " 21  NOTES                        19 non-null     object        \n",
      " 22  DATE REPORTED                97768 non-null  datetime64[ns]\n",
      "dtypes: datetime64[ns](1), float64(4), int64(3), object(15)\n",
      "memory usage: 17.2+ MB\n",
      "None \n",
      "\n",
      " The shape of the Dataframe is: (97768, 23)\n"
     ]
    }
   ],
   "source": [
    "print(movit_data.info(),\"\\n\")\n",
    "print(f' The shape of the Dataframe is:', movit_data.shape)"
   ]
  },
  {
   "cell_type": "markdown",
   "id": "0eeb1936-b2e6-4c1c-aa53-c773a85a83e7",
   "metadata": {},
   "source": [
    "### Creating a new dataframe with key columns and filtering the dataframe to include only records from February 2025"
   ]
  },
  {
   "cell_type": "code",
   "execution_count": 51,
   "id": "547643ec-bded-488d-b3d6-e30c96ab3f01",
   "metadata": {},
   "outputs": [
    {
     "data": {
      "text/html": [
       "<div>\n",
       "<style scoped>\n",
       "    .dataframe tbody tr th:only-of-type {\n",
       "        vertical-align: middle;\n",
       "    }\n",
       "\n",
       "    .dataframe tbody tr th {\n",
       "        vertical-align: top;\n",
       "    }\n",
       "\n",
       "    .dataframe thead th {\n",
       "        text-align: right;\n",
       "    }\n",
       "</style>\n",
       "<table border=\"1\" class=\"dataframe\">\n",
       "  <thead>\n",
       "    <tr style=\"text-align: right;\">\n",
       "      <th></th>\n",
       "      <th>DATE REPORTED</th>\n",
       "      <th>PRODUCT DESCRIPTION</th>\n",
       "      <th>STOCK LEVEL</th>\n",
       "      <th>QUANTITY</th>\n",
       "      <th>CUSTOMER NAME</th>\n",
       "      <th>REGION</th>\n",
       "    </tr>\n",
       "  </thead>\n",
       "  <tbody>\n",
       "    <tr>\n",
       "      <th>97767</th>\n",
       "      <td>2025-02-01</td>\n",
       "      <td>BABY JUNIOR 120G</td>\n",
       "      <td>Not available</td>\n",
       "      <td>0</td>\n",
       "      <td>CITI MART MIGORY</td>\n",
       "      <td>NYANZA</td>\n",
       "    </tr>\n",
       "    <tr>\n",
       "      <th>97753</th>\n",
       "      <td>2025-02-01</td>\n",
       "      <td>RADIANT SHOWER GEL ALOE VERA 750ML</td>\n",
       "      <td>Not available</td>\n",
       "      <td>0</td>\n",
       "      <td>CITI MART MIGORY</td>\n",
       "      <td>NYANZA</td>\n",
       "    </tr>\n",
       "    <tr>\n",
       "      <th>97754</th>\n",
       "      <td>2025-02-01</td>\n",
       "      <td>RADIANT HAIR FOOD 200GM</td>\n",
       "      <td>Not available</td>\n",
       "      <td>0</td>\n",
       "      <td>CITI MART MIGORY</td>\n",
       "      <td>NYANZA</td>\n",
       "    </tr>\n",
       "  </tbody>\n",
       "</table>\n",
       "</div>"
      ],
      "text/plain": [
       "      DATE REPORTED                 PRODUCT DESCRIPTION    STOCK LEVEL  \\\n",
       "97767    2025-02-01                    BABY JUNIOR 120G  Not available   \n",
       "97753    2025-02-01  RADIANT SHOWER GEL ALOE VERA 750ML  Not available   \n",
       "97754    2025-02-01             RADIANT HAIR FOOD 200GM  Not available   \n",
       "\n",
       "       QUANTITY     CUSTOMER NAME  REGION  \n",
       "97767         0  CITI MART MIGORY  NYANZA  \n",
       "97753         0  CITI MART MIGORY  NYANZA  \n",
       "97754         0  CITI MART MIGORY  NYANZA  "
      ]
     },
     "execution_count": 51,
     "metadata": {},
     "output_type": "execute_result"
    }
   ],
   "source": [
    "#selecting the key columns\n",
    "key_columns = ['DATE REPORTED', 'PRODUCT DESCRIPTION', 'STOCK LEVEL', 'QUANTITY', 'CUSTOMER NAME', 'REGION']\n",
    "movit_key_columns = movit_data[key_columns].copy()\n",
    "\n",
    "# Convert 'DATE REPORTED' to datetime format and extract the date part  \n",
    "movit_key_columns['DATE REPORTED'] = pd.to_datetime(movit_key_columns['DATE REPORTED']).dt.date\n",
    "\n",
    "# Convert 'QUANTITY' column to integers  \n",
    "movit_key_columns['QUANTITY'] = movit_key_columns['QUANTITY'].astype(int)  # Converts the column to int  \n",
    "\n",
    "# Create date range for February 2025  \n",
    "start_date = pd.to_datetime('2025-02-01').date()\n",
    "end_date = pd.to_datetime('2025-02-28').date()\n",
    "\n",
    "# Filter for records from February 2025  \n",
    "movit_key_columns = movit_key_columns[\n",
    "    (movit_key_columns['DATE REPORTED'] >= start_date) & \n",
    "    (movit_key_columns['DATE REPORTED'] <= end_date)\n",
    "]\n",
    "\n",
    "#sort the filtered DataFrame by 'DATE REPORTED'  \n",
    "movit_key_columns = february_data.sort_values(by='DATE REPORTED')  \n",
    "\n",
    "#Save the new Dataframe\n",
    "movit_key_columns.to_csv('C:/Users/DELL/Documents/My_project/Movit Stock Movement Analysis/Data/movit_key_columns.csv', index=False)\n",
    "\n",
    "movit_key_columns.head(3)#Displays the 1st three rows of the Dataframe."
   ]
  },
  {
   "cell_type": "markdown",
   "id": "cd83198f-6b51-4932-a25d-3421243cdd47",
   "metadata": {},
   "source": [
    "### Summary statistics of the new dataframe (movit_key_columns)"
   ]
  },
  {
   "cell_type": "code",
   "execution_count": 53,
   "id": "84d694b1-1eeb-4b14-8eb6-19c0ad392945",
   "metadata": {},
   "outputs": [
    {
     "name": "stdout",
     "output_type": "stream",
     "text": [
      "<class 'pandas.core.frame.DataFrame'>\n",
      "Index: 97768 entries, 97767 to 0\n",
      "Data columns (total 6 columns):\n",
      " #   Column               Non-Null Count  Dtype \n",
      "---  ------               --------------  ----- \n",
      " 0   DATE REPORTED        97768 non-null  object\n",
      " 1   PRODUCT DESCRIPTION  97768 non-null  object\n",
      " 2   STOCK LEVEL          97768 non-null  object\n",
      " 3   QUANTITY             97768 non-null  int64 \n",
      " 4   CUSTOMER NAME        97768 non-null  object\n",
      " 5   REGION               97768 non-null  object\n",
      "dtypes: int64(1), object(5)\n",
      "memory usage: 5.2+ MB\n"
     ]
    }
   ],
   "source": [
    "movit_key_columns.info()"
   ]
  },
  {
   "cell_type": "markdown",
   "id": "1e8ce62e-098f-4b67-9099-e0d32f0d99f5",
   "metadata": {},
   "source": [
    "### Shape of the dataframe"
   ]
  },
  {
   "cell_type": "code",
   "execution_count": 54,
   "id": "485bb57a-d262-4067-82f3-ab5c5bab70cd",
   "metadata": {},
   "outputs": [
    {
     "name": "stdout",
     "output_type": "stream",
     "text": [
      "The shape of the dataframe is: (97768, 6)\n"
     ]
    }
   ],
   "source": [
    "print(f'The shape of the dataframe is:',movit_key_columns.shape) #checks how may rows and colums the dataframe has in the formart (rows, colums)"
   ]
  },
  {
   "cell_type": "markdown",
   "id": "0ed1ab0c-bdc3-452c-bda3-a636269f9e59",
   "metadata": {},
   "source": [
    "### Checking for missing values"
   ]
  },
  {
   "cell_type": "code",
   "execution_count": 55,
   "id": "7c4b6f4c-8c43-4294-9e7d-6332655256b1",
   "metadata": {},
   "outputs": [
    {
     "name": "stdout",
     "output_type": "stream",
     "text": [
      "Missing values in movit_key before filling:\n",
      "DATE REPORTED          0\n",
      "PRODUCT DESCRIPTION    0\n",
      "STOCK LEVEL            0\n",
      "QUANTITY               0\n",
      "CUSTOMER NAME          0\n",
      "REGION                 0\n",
      "dtype: int64\n"
     ]
    }
   ],
   "source": [
    "# Check for missing values before filling  \n",
    "missing_values_before = movit_key_columns.isnull().sum()  \n",
    "print('Missing values in movit_key before filling:')  \n",
    "print(missing_values_before)  "
   ]
  },
  {
   "cell_type": "markdown",
   "id": "6f6dd207-72f4-49ff-b4c1-29a1b2ca614d",
   "metadata": {},
   "source": [
    "### Handling missing values"
   ]
  },
  {
   "cell_type": "code",
   "execution_count": 56,
   "id": "9c8459fb-5cfc-4e26-8875-d071de2508f3",
   "metadata": {},
   "outputs": [],
   "source": [
    "# Fill missing values in 'STOCK VALUE' based on 'QUANTITY'  \n",
    "movit_key_columns['STOCK LEVEL'] = movit_key_columns['STOCK LEVEL'].fillna(\n",
    "    movit_key['QUANTITY'].apply(lambda x: 'Available' if x >= 1 else 'Not available')\n",
    ")\n",
    "\n",
    "#Explanation:\n",
    "#.fillna() replaces missing values in \"STOCK VALUE\".\n",
    "#.apply(lambda x: 'Not available' if x == 0 else 'Available') checks the \"QUANTITY\" column:\n",
    "#If QUANTITY == 0, set \"STOCK VALUE\" to \"Not available\".\n",
    "#Otherwise, set \"STOCK VALUE\" to \"Available\"."
   ]
  },
  {
   "cell_type": "code",
   "execution_count": 57,
   "id": "76fa830e-1bba-46d5-b920-b7d0fbb4f512",
   "metadata": {},
   "outputs": [
    {
     "name": "stdout",
     "output_type": "stream",
     "text": [
      "Missing values in 'STOCK Level' after filling is: 0\n"
     ]
    }
   ],
   "source": [
    "stock_value_missing = movit_key_columns['STOCK LEVEL'].isnull().sum()  \n",
    "print(f\"Missing values in 'STOCK Level' after filling is: {stock_value_missing}\")  "
   ]
  },
  {
   "cell_type": "code",
   "execution_count": null,
   "id": "9637a49e-c2cb-40ed-b685-0bea7a5520b8",
   "metadata": {},
   "outputs": [],
   "source": []
  },
  {
   "cell_type": "code",
   "execution_count": null,
   "id": "95213d8d-433f-4d06-b468-6bb8dee3fbba",
   "metadata": {},
   "outputs": [],
   "source": []
  }
 ],
 "metadata": {
  "kernelspec": {
   "display_name": "Python 3 (ipykernel)",
   "language": "python",
   "name": "python3"
  },
  "language_info": {
   "codemirror_mode": {
    "name": "ipython",
    "version": 3
   },
   "file_extension": ".py",
   "mimetype": "text/x-python",
   "name": "python",
   "nbconvert_exporter": "python",
   "pygments_lexer": "ipython3",
   "version": "3.13.1"
  }
 },
 "nbformat": 4,
 "nbformat_minor": 5
}
